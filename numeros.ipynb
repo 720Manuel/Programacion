{
  "nbformat": 4,
  "nbformat_minor": 0,
  "metadata": {
    "colab": {
      "provenance": [],
      "authorship_tag": "ABX9TyNU1/ytEUhsIE/LS+/+VDxl",
      "include_colab_link": true
    },
    "kernelspec": {
      "name": "python3",
      "display_name": "Python 3"
    },
    "language_info": {
      "name": "python"
    }
  },
  "cells": [
    {
      "cell_type": "markdown",
      "metadata": {
        "id": "view-in-github",
        "colab_type": "text"
      },
      "source": [
        "<a href=\"https://colab.research.google.com/github/720Manuel/Programacion/blob/main/numeros.ipynb\" target=\"_parent\"><img src=\"https://colab.research.google.com/assets/colab-badge.svg\" alt=\"Open In Colab\"/></a>"
      ]
    },
    {
      "cell_type": "code",
      "execution_count": null,
      "metadata": {
        "id": "kHxnFIZbiQNj"
      },
      "outputs": [],
      "source": [
        "import random\n",
        "class Numeros:\n",
        "  def __init__(self)\n",
        "\n",
        "  def arregloNum(self):\n",
        "  return[random.randint(101,999)]\n",
        "\n",
        "  def numeros():\n",
        "  int(input(\"Ingrese n1:\"))\n",
        "  int(input(\"Ingrese n2:\"))\n",
        "  int(input(\"Ingrese n3:\"))\n",
        "  int(input(\"Ingrese n4:\"))\n",
        "  int(input(\"Ingrese n5:\"))\n",
        "  int(input(\"Ingrese n6:\"))\n",
        "  int(input(\"Ingrese n7:\"))\n",
        "  int(input(\"Ingrese n8:\"))\n",
        "  int(input(\"Ingrese n9:\"))\n",
        "  int(input(\"Ingrese n10:\"))\n",
        "\n",
        ""
      ]
    }
  ]
}