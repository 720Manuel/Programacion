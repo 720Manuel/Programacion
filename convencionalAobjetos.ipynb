{
  "nbformat": 4,
  "nbformat_minor": 0,
  "metadata": {
    "colab": {
      "provenance": [],
      "authorship_tag": "ABX9TyMuGr3wTtLjocmPnD2O0a/b",
      "include_colab_link": true
    },
    "kernelspec": {
      "name": "python3",
      "display_name": "Python 3"
    },
    "language_info": {
      "name": "python"
    }
  },
  "cells": [
    {
      "cell_type": "markdown",
      "metadata": {
        "id": "view-in-github",
        "colab_type": "text"
      },
      "source": [
        "<a href=\"https://colab.research.google.com/github/720Manuel/Programacion/blob/main/convencionalAobjetos.ipynb\" target=\"_parent\"><img src=\"https://colab.research.google.com/assets/colab-badge.svg\" alt=\"Open In Colab\"/></a>"
      ]
    },
    {
      "cell_type": "code",
      "execution_count": 9,
      "metadata": {
        "id": "OJJZn2ep7j_z",
        "colab": {
          "base_uri": "https://localhost:8080/"
        },
        "outputId": "b0641396-b522-40e8-854f-bc37ab739ca8"
      },
      "outputs": [
        {
          "output_type": "stream",
          "name": "stdout",
          "text": [
            "Ingrese numero de contorl:24590362\n",
            "Ingrese el nombre dle alumno:jose\n",
            "Ingrese la calificacion:100\n",
            "Desea ingresar otro alumno? s/n: si\n",
            "[]\n",
            "[[24590362, 'jose', 100]]\n"
          ]
        }
      ],
      "source": [
        "n=[]\n",
        "alumnos=[]\n",
        "op=\"S\"\n",
        "while op==\"s\" or op==\"S\":\n",
        "  for i in range (1,4):\n",
        "    if i== 1:\n",
        "      n.append(int(input (\"Ingrese numero de contorl:\")))\n",
        "    elif i == 2:\n",
        "      n.append(input (\"Ingrese el nombre dle alumno:\"))\n",
        "    else:\n",
        "      n.append(int(input (\"Ingrese la calificacion:\")))\n",
        "  alumnos.append(n)\n",
        "  n=[]\n",
        "  op=input(\"Desea ingresar otro alumno? s/n: \")\n",
        "\n",
        "#Principal\n",
        "print(n)\n",
        "print(alumnos)"
      ]
    },
    {
      "cell_type": "code",
      "source": [],
      "metadata": {
        "id": "uIaBTrMm_L4p"
      },
      "execution_count": null,
      "outputs": []
    },
    {
      "cell_type": "code",
      "source": [
        "from os import wait4\n",
        "class AlumnosP:\n",
        "  def __init__(self):\n",
        "    r=0\n",
        "    self.alumnos=[]\n",
        "  def datos(self):\n",
        "    n=[]\n",
        "    n.append(int(input (\"Ingrese numero de contorl:\")))\n",
        "    n.append(input (\"Ingrese el nombre dle alumno:\"))\n",
        "    n.append(int(input (\"Ingrese la calificacion:\")))\n",
        "    return(n)\n",
        "\n",
        "  def agregaAlumno(self,n):\n",
        "    self.alumnos.append(n)\n",
        "\n",
        "  def capturaAlumnos(self):\n",
        "    op=\"S\"\n",
        "    while op==\"s\" or op==\"s\":\n",
        "      n=self.datos()\n",
        "      self.agregaAlumnos(n)\n",
        "      op=input(\"Desea agregar otro alumno? s/n: \")\n",
        "  def prime (self):\n",
        "    print(self.alumnos)\n",
        "\n",
        "obj=AlumnosP()\n",
        "obj.capturaAlumnos()\n",
        "obj.imprime()\n"
      ],
      "metadata": {
        "colab": {
          "base_uri": "https://localhost:8080/",
          "height": 176
        },
        "id": "R8cG66VhBUUN",
        "outputId": "0dd27b82-2ad8-45b5-e237-f0c8fb752ec6"
      },
      "execution_count": 17,
      "outputs": [
        {
          "output_type": "error",
          "ename": "AttributeError",
          "evalue": "'AlumnosP' object has no attribute 'imprime'",
          "traceback": [
            "\u001b[0;31m---------------------------------------------------------------------------\u001b[0m",
            "\u001b[0;31mAttributeError\u001b[0m                            Traceback (most recent call last)",
            "\u001b[0;32m<ipython-input-17-ddd6c7218912>\u001b[0m in \u001b[0;36m<cell line: 0>\u001b[0;34m()\u001b[0m\n\u001b[1;32m     25\u001b[0m \u001b[0mobj\u001b[0m\u001b[0;34m=\u001b[0m\u001b[0mAlumnosP\u001b[0m\u001b[0;34m(\u001b[0m\u001b[0;34m)\u001b[0m\u001b[0;34m\u001b[0m\u001b[0;34m\u001b[0m\u001b[0m\n\u001b[1;32m     26\u001b[0m \u001b[0mobj\u001b[0m\u001b[0;34m.\u001b[0m\u001b[0mcapturaAlumnos\u001b[0m\u001b[0;34m(\u001b[0m\u001b[0;34m)\u001b[0m\u001b[0;34m\u001b[0m\u001b[0;34m\u001b[0m\u001b[0m\n\u001b[0;32m---> 27\u001b[0;31m \u001b[0mobj\u001b[0m\u001b[0;34m.\u001b[0m\u001b[0mimprime\u001b[0m\u001b[0;34m(\u001b[0m\u001b[0;34m)\u001b[0m\u001b[0;34m\u001b[0m\u001b[0;34m\u001b[0m\u001b[0m\n\u001b[0m",
            "\u001b[0;31mAttributeError\u001b[0m: 'AlumnosP' object has no attribute 'imprime'"
          ]
        }
      ]
    }
  ]
}