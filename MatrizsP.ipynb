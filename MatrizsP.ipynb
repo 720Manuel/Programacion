{
  "nbformat": 4,
  "nbformat_minor": 0,
  "metadata": {
    "colab": {
      "provenance": [],
      "authorship_tag": "ABX9TyMxUrO0Z8x0V+uyWlsrbx39",
      "include_colab_link": true
    },
    "kernelspec": {
      "name": "python3",
      "display_name": "Python 3"
    },
    "language_info": {
      "name": "python"
    }
  },
  "cells": [
    {
      "cell_type": "markdown",
      "metadata": {
        "id": "view-in-github",
        "colab_type": "text"
      },
      "source": [
        "<a href=\"https://colab.research.google.com/github/720Manuel/Programacion/blob/main/MatrizsP.ipynb\" target=\"_parent\"><img src=\"https://colab.research.google.com/assets/colab-badge.svg\" alt=\"Open In Colab\"/></a>"
      ]
    },
    {
      "cell_type": "code",
      "execution_count": null,
      "metadata": {
        "id": "5sewKzn3fHpQ"
      },
      "outputs": [],
      "source": [
        "class MatrizsP():\n",
        "  def __init__(self):\n",
        "    self.a=[[5,6,9,67],[3,23,89,44],[45,12,7,56],[41,45,54,3]]\n",
        "    self.b=[[35,57,7,6],[43,63,8,4],[5,52,4,6],[4,65,5,4]]\n",
        "    self.c=[[0,0,0,0],[0,0,0,0],[0,0,0,0],[0,0,0,0]]\n",
        "    self.d=[[0,0,0,0],[0,0,0,0],[0,0,0,0],[0,0,0,0]]\n",
        "  def Menu(self):\n",
        "    print(\"Elija una opcion\")\n",
        "    print(\"1. suma\")\n",
        "    print(\"2. resta\")\n",
        "    op=int(input(\"opcion:\"))\n",
        "    return(op)\n",
        "  def suma(self):\n",
        "    for i in range(len(self.a)):\n",
        "      for j in range(len(self.a[i])):\n",
        "        r=self.a[i][j]-self.b[i][j]\n",
        "        self.d[i][j]=r\n",
        "  def imprime(self,a,b,c,d):\n",
        "    print\n",
        "\n",
        ""
      ]
    },
    {
      "cell_type": "code",
      "source": [
        "obj=MatrizsP()\n",
        "op=obj.Menu()\n",
        "if op ==1:\n",
        "  obj.suma()\n",
        "  obj.imprimeSuma()\n",
        "elif op ==2:\n",
        "  obj.resta()\n",
        "  obj.imprimeResta"
      ],
      "metadata": {
        "id": "rs5RnusUiP2V"
      },
      "execution_count": null,
      "outputs": []
    }
  ]
}