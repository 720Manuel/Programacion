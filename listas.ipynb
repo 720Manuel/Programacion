{
  "nbformat": 4,
  "nbformat_minor": 0,
  "metadata": {
    "colab": {
      "provenance": [],
      "authorship_tag": "ABX9TyNhh6zyzErx7XATEcimC4FM",
      "include_colab_link": true
    },
    "kernelspec": {
      "name": "python3",
      "display_name": "Python 3"
    },
    "language_info": {
      "name": "python"
    }
  },
  "cells": [
    {
      "cell_type": "markdown",
      "metadata": {
        "id": "view-in-github",
        "colab_type": "text"
      },
      "source": [
        "<a href=\"https://colab.research.google.com/github/720Manuel/Programacion/blob/main/listas.ipynb\" target=\"_parent\"><img src=\"https://colab.research.google.com/assets/colab-badge.svg\" alt=\"Open In Colab\"/></a>"
      ]
    },
    {
      "cell_type": "code",
      "execution_count": null,
      "metadata": {
        "id": "YBj95oxO-jFs"
      },
      "outputs": [],
      "source": [
        "edades = [20, 41, 6, 18, 23]\n",
        "# Recorriendo los elementos\n",
        "for edad in edades:\n",
        "print(edad)\n",
        "# Recorriendo los índices\n",
        "for i in range(len(edaded)):\n",
        "print(edaded[i])\n",
        "# Con while y los índices\n",
        "indice = 0\n",
        "while indice < len(edaded):\n",
        "print(edades[indice])\n",
        "indice += 1"
      ]
    },
    {
      "cell_type": "code",
      "source": [
        "números = []\n",
        "# Unimos la lista anterior con una nueva\n",
        "números = números + [10, 5, 3]\n",
        "print(números)\n",
        "# Mostrará [10, 5, 3]"
      ],
      "metadata": {
        "id": "sjKrowhjAxaz"
      },
      "execution_count": null,
      "outputs": []
    },
    {
      "cell_type": "code",
      "source": [
        "palabras = ['hola', 'hello', 'ola']\n",
        "palabras.pop()\n",
        "print(palabras)\n",
        "# Mostrará ['hola', 'ola']"
      ],
      "metadata": {
        "colab": {
          "base_uri": "https://localhost:8080/"
        },
        "id": "sxd9fxuTBU1Z",
        "outputId": "e4ce8d1b-491f-4d68-97b5-ac02e8752e2f"
      },
      "execution_count": 6,
      "outputs": [
        {
          "output_type": "stream",
          "name": "stdout",
          "text": [
            "['hola', 'hello']\n"
          ]
        }
      ]
    },
    {
      "cell_type": "code",
      "source": [
        "palabras = ['hola', 'hello', 'hello', 'ola']\n",
        "palabras.remove('hello')\n",
        "print(palabras)\n",
        "# Mostrará ['hola', 'hello', 'ola']"
      ],
      "metadata": {
        "colab": {
          "base_uri": "https://localhost:8080/"
        },
        "id": "bsvihaT-CrLd",
        "outputId": "421f3c87-e7ca-41ca-b725-fe4b86f76e27"
      },
      "execution_count": 7,
      "outputs": [
        {
          "output_type": "stream",
          "name": "stdout",
          "text": [
            "['hola', 'hello', 'ola']\n"
          ]
        }
      ]
    },
    {
      "cell_type": "code",
      "source": [
        "# Creamos las listas (vacías al comienzo)\n",
        "nombres = []\n",
        "identificaciones = []\n",
        "# Definimos un tamaño para las listas\n",
        "# Lo puedes cambiar si quieres\n",
        "tamaño = 3\n",
        "# Leemos los datos y los agregamos a la lista\n",
        "for i in range(tamaño):\n",
        "  print(\"Ingrese los datos de la persona\", i + 1)\n",
        "  nombre = input(\"Nombre: \")\n",
        "  identificación = input(\"Identificación: \")\n",
        "  nombres.append(nombre)\n",
        "  identificaciones.append(identificación) # Ahora mostremos las listas\n",
        "for i in range(tamaño):\n",
        "  print(\"Mostrando los datos de la persona\", i + 1)\n",
        "  print(\"Nombre:\", nombres[i])\n",
        "  print(\"Identificación:\", identificaciones[i])"
      ],
      "metadata": {
        "colab": {
          "base_uri": "https://localhost:8080/"
        },
        "id": "QRicpy0tGiS4",
        "outputId": "82795479-501b-41be-aed3-7cc328568f74"
      },
      "execution_count": null,
      "outputs": [
        {
          "metadata": {
            "tags": null
          },
          "name": "stdout",
          "output_type": "stream",
          "text": [
            "Ingrese los datos de la persona 1\n"
          ]
        }
      ]
    },
    {
      "cell_type": "code",
      "source": [
        "# Creamos las listas (vacías al comienzo)\n",
        "nombres = []\n",
        "identificaciones = []\n",
        "# Definimos un tamaño para las listas\n",
        "# Lo puedes cambiar si quieres\n",
        "tam = 0\n",
        "res= \"s\"\n",
        "# Leemos los datos y los agregamos a la lista\n",
        "while res ==\"s\"\n",
        "  print(\"Ingrese los datos de la persona\", tam + 1)\n",
        "  nombre = input(\"Nombre: \")\n",
        "  identificación = input(\"Identificación: \")\n",
        "  nombres.append(nombre)\n",
        "  identificaciones.append(identificación)\n",
        "  tam +=1\n",
        "  res= input (\"Desea ingresar otro dato s/n\")\n",
        "for i in range(tam):\n",
        "  print(\"Mostrando los datos de la persona\", i + 1)\n",
        "  print(\"Nombre:\", nombres[i])\n",
        "  print(\"Identificación:\", identificaciones[i])"
      ],
      "metadata": {
        "id": "LEcDowqIG8mz"
      },
      "execution_count": null,
      "outputs": []
    }
  ]
}