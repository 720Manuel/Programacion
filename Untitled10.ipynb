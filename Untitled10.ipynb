{
  "nbformat": 4,
  "nbformat_minor": 0,
  "metadata": {
    "colab": {
      "provenance": [],
      "authorship_tag": "ABX9TyPETICEjOGF782q/oM8yQhD",
      "include_colab_link": true
    },
    "kernelspec": {
      "name": "python3",
      "display_name": "Python 3"
    },
    "language_info": {
      "name": "python"
    }
  },
  "cells": [
    {
      "cell_type": "markdown",
      "metadata": {
        "id": "view-in-github",
        "colab_type": "text"
      },
      "source": [
        "<a href=\"https://colab.research.google.com/github/720Manuel/Programacion/blob/main/Untitled10.ipynb\" target=\"_parent\"><img src=\"https://colab.research.google.com/assets/colab-badge.svg\" alt=\"Open In Colab\"/></a>"
      ]
    },
    {
      "cell_type": "code",
      "execution_count": null,
      "metadata": {
        "id": "qEhEufLxOSjP"
      },
      "outputs": [],
      "source": [
        "class Alumnos:\n",
        "  def __init__(self,nombre, edad, sexo)\n",
        "   self.nombre=nombre\n",
        "   self.edad=0\n",
        "   self.sexo=0\n",
        "   self.cMujeres=0\n",
        "   self.cHombres=0\n",
        "   self.tAlumnos=0\n",
        "   self.pEdadMj=0\n",
        "   self.pEdadHm=0\n",
        "   self.pEdadGlobal=0\n",
        "  def nombre(self):\n",
        "    print (\"Ingresa tu nombre:\")\n",
        "    n=1\n",
        "  def edad(self):\n",
        "    print(\"ingresa tu edad:\")\n",
        "  def sexo(self):\n",
        "    r=int(input(Edad))\n",
        "    print(\"Escribe tu sexo hombre o mujer:\")\n",
        "    r=int(input(sexo))\n",
        "  def cantidad total de alumnos(r):\n",
        "    tAlumnos=n+n\n",
        "\n",
        "\n",
        "\n",
        "\n",
        "\n",
        "\n"
      ]
    }
  ]
}