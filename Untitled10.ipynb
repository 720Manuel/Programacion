{
  "nbformat": 4,
  "nbformat_minor": 0,
  "metadata": {
    "colab": {
      "provenance": [],
      "authorship_tag": "ABX9TyMK4a7CDoVAqvJrkOt08BiA",
      "include_colab_link": true
    },
    "kernelspec": {
      "name": "python3",
      "display_name": "Python 3"
    },
    "language_info": {
      "name": "python"
    }
  },
  "cells": [
    {
      "cell_type": "markdown",
      "metadata": {
        "id": "view-in-github",
        "colab_type": "text"
      },
      "source": [
        "<a href=\"https://colab.research.google.com/github/720Manuel/Programacion/blob/main/Untitled10.ipynb\" target=\"_parent\"><img src=\"https://colab.research.google.com/assets/colab-badge.svg\" alt=\"Open In Colab\"/></a>"
      ]
    },
    {
      "cell_type": "code",
      "execution_count": null,
      "metadata": {
        "id": "NZjUv3JUIEcc"
      },
      "outputs": [],
      "source": [
        "a=[[5,6,9,67],[3,23,89,44],[45,12,7,56],[41,45,54,3]]\n",
        "b=[[35,57,7,6],[43,63,8,4],[5,52,4,6],[4,65,5,4]]\n",
        "c=[],[]\n",
        "for i in range\n",
        ""
      ]
    }
  ]
}