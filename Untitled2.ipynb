{
  "nbformat": 4,
  "nbformat_minor": 0,
  "metadata": {
    "colab": {
      "provenance": [],
      "authorship_tag": "ABX9TyMLvWWjj77xEE2XZ8DeRMIU",
      "include_colab_link": true
    },
    "kernelspec": {
      "name": "python3",
      "display_name": "Python 3"
    },
    "language_info": {
      "name": "python"
    }
  },
  "cells": [
    {
      "cell_type": "markdown",
      "metadata": {
        "id": "view-in-github",
        "colab_type": "text"
      },
      "source": [
        "<a href=\"https://colab.research.google.com/github/720Manuel/Programacion/blob/main/Untitled2.ipynb\" target=\"_parent\"><img src=\"https://colab.research.google.com/assets/colab-badge.svg\" alt=\"Open In Colab\"/></a>"
      ]
    },
    {
      "cell_type": "code",
      "source": [],
      "metadata": {
        "id": "XXrfFchP8Kgc"
      },
      "execution_count": null,
      "outputs": []
    },
    {
      "cell_type": "markdown",
      "source": [
        "PROGRAMACION ORIENTADA A OBJETOS\n",
        "\n",
        "*¿Que son las tecnologias disrruptivas?*\n",
        "Estas corresponden a innovaciones, cambian de manera radical los mercados y las industrias creando nuevos modelos de negocio y sectores la disrupción está palabra tan de moda se produce cuando una tecnología cambia las reglas del juego de un mercado, la vida de las personas o a una sociedad entera.\n",
        "\n",
        "¿Qué son las mega tendencias?\n",
        "Son tendencias futuras que pueden afectar a la programación y otros aspectos de la vida. Son fuerzas de cambio que pueden ser sociales demográficas o tecnológicas.\n",
        "\n",
        "Conceptos básicos de IA:\n",
        "La inteligencia artificial es un campo interdisciplinar que abarca varios sobrecampos como el aprendizaje automático el procesamiento del lenguaje natural la robótica y la visión para ordenador. IA es un concepto paraguas que abarca cualquier tecnología que permita las computadoras imitar habilidades humanas.\n",
        "\n",
        "Objeto:\n",
        "Es una entidad que contiene información y acciones se crea a partir de cierto procedimiento.\n",
        "\n",
        "Sus características.\n",
        "Tiene un estado que es el conjunto de valores de sus atributos.\n",
        "Tiene un comportamiento que es el conjunto de acciones que se pueden realizar en ellos.\n",
        "Permiten simplificar problemas complejos.\n",
        "\n",
        "Clase:\n",
        "Una clase en programación es un modelo que define las características y comportamientos de un conjunto de objetos. Los objetos se crean a partir de la clase que actúa como una plantilla.\n",
        "\n",
        "Evento:\n",
        "En programación se refiere a un cambio en el estado de un sistema que el programa detecta y que puede desencadenar una acción.\n",
        "Ejemplos presionar una tecla pasar el mouse sobre un elemento notificaciones del sistema etcétera.\n",
        "\n",
        "Propiedad:\n",
        "Es un atributo de un objeto que define una de sus características también son conocidas como atributos. Ejemplos de ellos son el color o la marca de un coche.\n",
        "\n",
        "Modelo orientado a objetos:\n",
        "(OOM) es un enfoque para modelar aplicaciones que se utilizan en el desarrollo de software. se basa en la programación orientada a objetos (POO) el modelo se utiliza para representar el mundo real resolver problemas administrar datos.\n",
        "\n",
        "Objeto: es una instanciación corresponde a las mismas características ejemplos son los oxxos o aurrerás.\n",
        "\n",
        "Evento: también conocido como interfaz eventos de entrada y salida\n",
        "\n",
        "(Modelo orientado a objetos)\n",
        "\n",
        "*   Abstracción\n",
        "*   Encapsulamiento, propiedades, eventos o\n",
        "conocidas también como entradas (acciones) salidas (resultados).\n",
        "*   Modularidad se divide en módulos al objeto por ejemplo sería la carrocería o la tracción se divide en la menos partes posibles.\n",
        "*   Jerarquía orden que se lleva para cumplir ciertas acciones.\n",
        "\n",
        "\n",
        "\n",
        "\n",
        "\n"
      ],
      "metadata": {
        "id": "MuBq5XSLvvTI"
      }
    }
  ]
}