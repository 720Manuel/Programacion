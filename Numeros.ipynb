{
  "nbformat": 4,
  "nbformat_minor": 0,
  "metadata": {
    "colab": {
      "provenance": [],
      "authorship_tag": "ABX9TyNh5lZHxKjJrMd7bvWSFbun",
      "include_colab_link": true
    },
    "kernelspec": {
      "name": "python3",
      "display_name": "Python 3"
    },
    "language_info": {
      "name": "python"
    }
  },
  "cells": [
    {
      "cell_type": "markdown",
      "metadata": {
        "id": "view-in-github",
        "colab_type": "text"
      },
      "source": [
        "<a href=\"https://colab.research.google.com/github/720Manuel/Programacion/blob/main/Numeros.ipynb\" target=\"_parent\"><img src=\"https://colab.research.google.com/assets/colab-badge.svg\" alt=\"Open In Colab\"/></a>"
      ]
    },
    {
      "cell_type": "code",
      "execution_count": null,
      "metadata": {
        "id": "OmqbhMqyQa6G"
      },
      "outputs": [],
      "source": [
        "class Numeros():\n",
        "  def __init__(self, num)\n",
        "  self.num=0\n",
        "  def numero(self)\n",
        "  print(\"Ingresa un numero:\")\n",
        "  r=int(input(numero))\n",
        "  return(r)\n",
        "  def par(r):\n",
        "  par=r%2=int(0)\n",
        "  return (par)\n",
        "  def inpar(r)\n",
        "  inpar=r%2=int(1)\n",
        "  return (impar)\n",
        "  def non(r):\n",
        "  non=r%2=int(1,2,3,):\n",
        "  return (non)\n",
        "\n",
        "\n",
        "\n",
        "\n",
        "\n",
        "\n"
      ]
    }
  ]
}