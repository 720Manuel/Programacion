{
  "nbformat": 4,
  "nbformat_minor": 0,
  "metadata": {
    "colab": {
      "provenance": [],
      "authorship_tag": "ABX9TyMLDTKPuAIBwMLSUJ/gJBSP",
      "include_colab_link": true
    },
    "kernelspec": {
      "name": "python3",
      "display_name": "Python 3"
    },
    "language_info": {
      "name": "python"
    }
  },
  "cells": [
    {
      "cell_type": "markdown",
      "metadata": {
        "id": "view-in-github",
        "colab_type": "text"
      },
      "source": [
        "<a href=\"https://colab.research.google.com/github/720Manuel/Programacion/blob/main/jemplo_1%2C_hola_mundo.ipynb\" target=\"_parent\"><img src=\"https://colab.research.google.com/assets/colab-badge.svg\" alt=\"Open In Colab\"/></a>"
      ]
    },
    {
      "cell_type": "code",
      "execution_count": null,
      "metadata": {
        "id": "Luq09iNu2FlH"
      },
      "outputs": [],
      "source": [
        "Mi primer programa hecho por Jose Manuel Hernandez Arreguin jueves 06/02/2025\n",
        "print (\"Hola mundo\")"
      ]
    }
  ]
}