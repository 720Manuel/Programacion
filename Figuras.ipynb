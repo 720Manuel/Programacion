{
  "nbformat": 4,
  "nbformat_minor": 0,
  "metadata": {
    "colab": {
      "provenance": [],
      "authorship_tag": "ABX9TyOZamXa/EyMfUGIg0knfSVL",
      "include_colab_link": true
    },
    "kernelspec": {
      "name": "python3",
      "display_name": "Python 3"
    },
    "language_info": {
      "name": "python"
    }
  },
  "cells": [
    {
      "cell_type": "markdown",
      "metadata": {
        "id": "view-in-github",
        "colab_type": "text"
      },
      "source": [
        "<a href=\"https://colab.research.google.com/github/720Manuel/Programacion/blob/main/Figuras.ipynb\" target=\"_parent\"><img src=\"https://colab.research.google.com/assets/colab-badge.svg\" alt=\"Open In Colab\"/></a>"
      ]
    },
    {
      "cell_type": "code",
      "execution_count": null,
      "metadata": {
        "colab": {
          "base_uri": "https://localhost:8080/",
          "height": 106
        },
        "id": "chtGKPi7Dou3",
        "outputId": "2a98db1c-ec50-4224-b501-db555a5fb359"
      },
      "outputs": [
        {
          "output_type": "error",
          "ename": "IndentationError",
          "evalue": "unexpected indent (<ipython-input-5-5e6c789819e5>, line 24)",
          "traceback": [
            "\u001b[0;36m  File \u001b[0;32m\"<ipython-input-5-5e6c789819e5>\"\u001b[0;36m, line \u001b[0;32m24\u001b[0m\n\u001b[0;31m    elif(s==1):\u001b[0m\n\u001b[0m    ^\u001b[0m\n\u001b[0;31mIndentationError\u001b[0m\u001b[0;31m:\u001b[0m unexpected indent\n"
          ]
        }
      ],
      "source": [
        "class Figuras:\n",
        "  def __init__(self):\n",
        "    self.a=0\n",
        "    self.b=0\n",
        "    self.c=0\n",
        "  def op(self):\n",
        "    print(\"que opcion quieres:\")\n",
        "    print(\"1.-circulo...\")\n",
        "    print(\"2.-trapecio...\")\n",
        "    print(\"3.-rectangulo\")\n",
        "    r=int(input(opcion))\n",
        "    return(r)\n",
        "  def circulo(r):\n",
        "    area=3.1416**2\n",
        "    return(area)\n",
        "  def tarpecio(b1,b2,h):\n",
        "    area=((b1+b2)*h)/2\n",
        "    return(area)\n",
        "  def rectangulo(b,h):\n",
        "    area=(b*h)\n",
        "    return(area)\n",
        "obj=Figuras()\n",
        "s=obj.op()\n",
        " elif(s==1):\n",
        "  obj.a=float(input(\"Escribe el radio:\"))\n",
        "  resultado=obj.circulo(obj.a)\n",
        "  print(\"El area es de:\",resultado)\n",
        " elif(s==2):\n",
        "  obj.a=float(input(\"Escribe la base mayor:\"))\n",
        "  obj.b=float(input(\"Escribe la base menor:\"))\n",
        "  obj.c=float(input(\"Escribe h:\"))\n",
        "  resultado=obj.trapecio(obj.a,obj.b,obj.c)\n",
        "  print=(\"El area es:\", resultado)\n",
        " elif(s==3):\n",
        "  obj.a=float(input(\"base:\"))\n",
        "  obj.b=float(input(\"altura:\"))\n",
        "  resultado=(obj.a*obj.b)\n",
        "  print(\"areat.esdc:\",resultado)"
      ]
    }
  ]
}