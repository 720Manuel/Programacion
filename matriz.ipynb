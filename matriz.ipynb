{
  "nbformat": 4,
  "nbformat_minor": 0,
  "metadata": {
    "colab": {
      "provenance": [],
      "authorship_tag": "ABX9TyN9MIeZpd/vZN/PbGK9C3uH",
      "include_colab_link": true
    },
    "kernelspec": {
      "name": "python3",
      "display_name": "Python 3"
    },
    "language_info": {
      "name": "python"
    }
  },
  "cells": [
    {
      "cell_type": "markdown",
      "metadata": {
        "id": "view-in-github",
        "colab_type": "text"
      },
      "source": [
        "<a href=\"https://colab.research.google.com/github/720Manuel/Programacion/blob/main/matriz.ipynb\" target=\"_parent\"><img src=\"https://colab.research.google.com/assets/colab-badge.svg\" alt=\"Open In Colab\"/></a>"
      ]
    },
    {
      "cell_type": "code",
      "execution_count": null,
      "metadata": {
        "id": "_JfUY-UjcJNH"
      },
      "outputs": [],
      "source": [
        "class Matriz ():\n",
        "  def __init__(self):\n",
        "    r=0\n",
        "  def matrizA(self):\n",
        "    a=[[5,6,9,67],[3,23,89,44],[45,12,7,56],[41,45,54,3]]\n",
        "    return(a)\n",
        "  def matrizB(self):\n",
        "    b=[[35,57,7,6],[43,63,8,4],[5,52,4,6],[4,65,5,4]]\n",
        "    return(b)\n",
        ""
      ]
    },
    {
      "cell_type": "code",
      "source": [
        "obj=Matriz()\n",
        "a=[],[]\n",
        "a=obj.matrizA()\n",
        "b=[],[]\n",
        "b=obj.matrizB()\n",
        "c=[],[]\n",
        "c=obj.suma(a,b)\n",
        "d=[],[]\n",
        "d=obj.resta(a,b)"
      ],
      "metadata": {
        "id": "9fdGlXhUdlqy"
      },
      "execution_count": null,
      "outputs": []
    }
  ]
}